{
 "cells": [
  {
   "cell_type": "markdown",
   "id": "e55e4f65",
   "metadata": {},
   "source": [
    "# Drone-Enabled Food Delivery Model 🚁🍔\n",
    "This notebook demonstrates the cost and ROI analysis for drone-based food delivery."
   ]
  },
  {
   "cell_type": "code",
   "execution_count": null,
   "id": "3ae83ddb",
   "metadata": {},
   "outputs": [
    {
     "name": "stdout",
     "output_type": "stream",
     "text": [
      "Rider total monthly cost: 75000\n",
      "Drone total monthly cost: 28833.333333333336\n",
      "Absolute monthly savings: 46166.666666666664\n",
      "Cost reduction: 61.56 %\n",
      "ROI (monthly): 160.12 %\n"
     ]
    }
   ],
   "source": [
    "\n",
    "rider_total = 1000*50 + (20000+5000)\n",
    "drone_total = (120000/24) + 3000 + (10000/12) + (1000*20)\n",
    "savings_abs = rider_total - drone_total\n",
    "savings_pct = (savings_abs / rider_total) * 100\n",
    "roi_pct = (savings_abs / drone_total) * 100\n",
    "\n",
    "print(\"Rider total monthly cost:\", rider_total)\n",
    "print(\"Drone total monthly cost:\", drone_total)\n",
    "print(\"Absolute monthly savings:\", savings_abs)\n",
    "print(\"Cost reduction:\", savings_pct, \"%\")\n",
    "print(\"ROI (monthly):\", roi_pct, \"%\")\n"
   ]
  },
  {
   "cell_type": "markdown",
   "id": "6dbe0aa6",
   "metadata": {},
   "source": [
    "## Cost Comparison Chart\n",
    "![Cost Comparison](../visuals/cost_comparison.png)"
   ]
  },
  {
   "cell_type": "markdown",
   "id": "74615250",
   "metadata": {},
   "source": [
    "## ROI Projection Chart\n",
    "![ROI Projection](../visuals/roi_projection.png)"
   ]
  }
 ],
 "metadata": {},
 "nbformat": 4,
 "nbformat_minor": 5
}
